{
 "cells": [
  {
   "cell_type": "code",
   "execution_count": 1,
   "metadata": {},
   "outputs": [
    {
     "data": {
      "text/plain": [
       "['cbd.tif',\n",
       " 'cbd_dist.tif',\n",
       " 'dem.tif',\n",
       " 'land_use_1996.tif',\n",
       " 'land_use_2001.tif',\n",
       " 'land_use_2008.tif',\n",
       " 'land_use_2012.tif',\n",
       " 'land_use_2018.tif',\n",
       " 'mway.tif',\n",
       " 'mway_dist.tif',\n",
       " 'pop_1996.tif',\n",
       " 'pop_2001.tif',\n",
       " 'pop_2006.tif',\n",
       " 'pop_2013.tif',\n",
       " 'pop_2018.tif',\n",
       " 'pop_2023.tif',\n",
       " 'pop_2028.tif',\n",
       " 'pop_2033.tif',\n",
       " 'pop_2038.tif',\n",
       " 'pop_2043.tif',\n",
       " 'pop_2048.tif',\n",
       " 'slope.tif']"
      ]
     },
     "execution_count": 1,
     "metadata": {},
     "output_type": "execute_result"
    }
   ],
   "source": [
    "from CAModel import *\n",
    "import os\n",
    "import matplotlib.pyplot as plt\n",
    "import matplotlib.patches as mpatches\n",
    "plt.rcParams['figure.figsize'] = (20, 20)\n",
    "sorted(os.listdir(\"output\"))"
   ]
  },
  {
   "cell_type": "code",
   "execution_count": null,
   "metadata": {},
   "outputs": [
    {
     "name": "stdout",
     "output_type": "stream",
     "text": [
      "Checking the size of input rasters...\n",
      "Land cover data size matched.\n",
      "\n",
      "Checking feature classes in land cover data...\n",
      "The classes in input land cover files are matched.\n",
      "\n",
      "Checking the size of input growth factors...\n",
      "Input factors have same row and column value.\n",
      "\n",
      "Matching the size of land cover and growth factors...\n",
      "Size of rasters matched.\n",
      "\n",
      "Threshold set for factors\n",
      "Row: 500, Col: 500, Builtup cells count: 0\n",
      "\r"
     ]
    }
   ],
   "source": [
    "# Create a land cover class which takes land cover data for two time periods\n",
    "# Use 2008-2012 to predict 2018\n",
    "myLandcover = landcover(\"output/land_use_2008.tif\", \"output/land_use_2012.tif\")\n",
    "\n",
    "# Create a factors class that configures all the factors for the model\n",
    "myFactors = growthFactors(\"output/cbd_dist.tif\", \"output/mway_dist.tif\", \"output/pop_2018.tif\", \"output/slope.tif\")\n",
    "\n",
    "# Initiate the model with the above created class\n",
    "caModel = fitmodel(myLandcover, myFactors, kernelSize=3)\n",
    "\n",
    "# Set the threshold values, Assign negative threshold values if less than rule is required\n",
    "# Based on the statistical and spatial accuracy displayed, the thresholds should be tweaked\n",
    "# Grow if <15KM from CBD, <10KM from motorway, >8000 people, <3 degrees slope\n",
    "caModel.setThreshold(3, -15000, -10000, 8000, -3)\n",
    "\n",
    "# Run the model\n",
    "caModel.predict()\n",
    "\n",
    "# Check the accuracy of the predicted values\n",
    "caModel.checkAccuracy()\n",
    "\n",
    "# Export the predicted layer\n",
    "os.makedirs(\"predictions\", exist_ok=True)\n",
    "caModel.exportPredicted('predictions/land_use_2018.tif')"
   ]
  },
  {
   "cell_type": "code",
   "execution_count": null,
   "metadata": {},
   "outputs": [],
   "source": [
    "# Use 2012-2018 to predict 2023\n",
    "myLandcover = landcover(\"output/land_use_2012.tif\", \"output/land_use_2018.tif\")\n",
    "\n",
    "# Create a factors class that configures all the factors for the model\n",
    "myFactors = growthFactors(\"output/cbd_dist.tif\", \"output/mway_dist.tif\", \"output/pop_2023.tif\", \"output/slope.tif\")\n",
    "\n",
    "# Initiate the model with the above created class\n",
    "caModel = fitmodel(myLandcover, myFactors)\n",
    "\n",
    "# Set the threshold values, Assign negative threshold values if less than rule is required\n",
    "# Based on the statistical and spatial accuracy displayed, the thresholds should be tweaked\n",
    "# Grow if <15KM from CBD, <10KM from motorway, >8000 people, <3 degrees slope\n",
    "caModel.setThreshold(3, -15000, -10000, 8000, -3)\n",
    "\n",
    "# Run the model\n",
    "caModel.predict(base=2)\n",
    "\n",
    "# Export the predicted layer\n",
    "outfile = 'predictions/land_use_2023.tif'\n",
    "caModel.exportPredicted(outfile)"
   ]
  },
  {
   "cell_type": "code",
   "execution_count": null,
   "metadata": {},
   "outputs": [],
   "source": [
    "cmap = {1:[1,0,0],2:[0,.5,0],3:[0,.7,.7],4:[1,1,1]} # Map classes to RGB\n",
    "labels = {1:'Urban',2:'Vegetation',3:'Water',4:'Other'}\n",
    "arrayShow = np.array([[cmap[i] for i in j] for j in caModel.predicted])\n",
    "## create patches as legend\n",
    "patches = [mpatches.Patch(color=cmap[i],label=labels[i]) for i in cmap]\n",
    "plt.imshow(arrayShow)\n",
    "plt.title(\"2023 land use prediction in Auckland\")\n",
    "plt.legend(handles=patches)\n",
    "plt.show()"
   ]
  }
 ],
 "metadata": {
  "kernelspec": {
   "display_name": "Python 3",
   "language": "python",
   "name": "python3"
  },
  "language_info": {
   "codemirror_mode": {
    "name": "ipython",
    "version": 3
   },
   "file_extension": ".py",
   "mimetype": "text/x-python",
   "name": "python",
   "nbconvert_exporter": "python",
   "pygments_lexer": "ipython3",
   "version": "3.8.5"
  }
 },
 "nbformat": 4,
 "nbformat_minor": 4
}
